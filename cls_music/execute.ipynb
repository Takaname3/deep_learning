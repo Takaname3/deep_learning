{
 "cells": [
  {
   "cell_type": "code",
   "execution_count": 31,
   "metadata": {},
   "outputs": [],
   "source": [
    "import librosa\n",
    "import numpy as np\n",
    "import matplotlib.pyplot as plt\n",
    "import pathlib\n",
    "import warnings\n",
    "from fastai.vision import *\n",
    "warnings.filterwarnings('ignore')"
   ]
  },
  {
   "cell_type": "code",
   "execution_count": 32,
   "metadata": {},
   "outputs": [],
   "source": [
    "# chargement du model et de ses classes\n",
    "learn = load_learner(path='models', file='model_fit_music.pkl')\n",
    "classes = learn.data.classes"
   ]
  },
  {
   "cell_type": "code",
   "execution_count": 33,
   "metadata": {},
   "outputs": [],
   "source": [
    "def predict_song(song_file):\n",
    "    directory = pathlib.Path('data')\n",
    "    for filename in directory.glob(song_file):\n",
    "        print(filename)\n",
    "        try:\n",
    "            x, sample_rate = librosa.load(filename, offset=30, duration=30)\n",
    "            n_fft = 1024\n",
    "            hop_length = 256\n",
    "            n_mels = 40\n",
    "            fmin = 20\n",
    "            fmax = sample_rate / 2\n",
    "\n",
    "            mel_spec_power = librosa.feature.melspectrogram(x, sr=sample_rate, n_fft=n_fft,\n",
    "                                                            hop_length=hop_length,\n",
    "                                                            n_mels=n_mels, power=2.0,\n",
    "                                                            fmin=fmin, fmax=fmax)\n",
    "            mel_spec_db = librosa.power_to_db(mel_spec_power, ref=np.max)\n",
    "            plt.imsave(pathlib.Path(directory).joinpath(\n",
    "                filename.name[:-4]+\".png\"), mel_spec_db)\n",
    "            \n",
    "            print('coversion ok')\n",
    "            \n",
    "            predictions = learn.predict(open_image(pathlib.Path(directory).joinpath(\n",
    "                filename.name[:-4]+\".png\")))\n",
    "            probs_list = predictions[2].numpy()\n",
    "           \n",
    "            return {\n",
    "                'category': classes[predictions[1].item()],\n",
    "                'probs': {c: round(float(probs_list[i]), 5) for (i, c) in enumerate(classes)}\n",
    "            }\n",
    "        except Exception as e: print(e)"
   ]
  },
  {
   "cell_type": "code",
   "execution_count": 30,
   "metadata": {},
   "outputs": [
    {
     "name": "stdout",
     "output_type": "stream",
     "text": [
      "data\\4.wav\n",
      "coversion ok\n"
     ]
    },
    {
     "data": {
      "text/plain": [
       "{'category': 'nightcore',\n",
       " 'probs': {'classic': 0.0,\n",
       "  'jazz': 0.00101,\n",
       "  'metal': 1e-05,\n",
       "  'nightcore': 0.99898}}"
      ]
     },
     "execution_count": 30,
     "metadata": {},
     "output_type": "execute_result"
    }
   ],
   "source": [
    "# en local seulement les .wav fonctionne avec librosa (probleme de config)\n",
    "# normalement les .mp3 chez vous\n",
    "\n",
    "predict_song(\"4.wav\")"
   ]
  }
 ],
 "metadata": {
  "kernelspec": {
   "display_name": "Python 3",
   "language": "python",
   "name": "python3"
  },
  "language_info": {
   "codemirror_mode": {
    "name": "ipython",
    "version": 3
   },
   "file_extension": ".py",
   "mimetype": "text/x-python",
   "name": "python",
   "nbconvert_exporter": "python",
   "pygments_lexer": "ipython3",
   "version": "3.7.6"
  }
 },
 "nbformat": 4,
 "nbformat_minor": 4
}
